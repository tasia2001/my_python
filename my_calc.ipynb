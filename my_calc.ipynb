{
 "cells": [
  {
   "cell_type": "code",
   "execution_count": 9,
   "metadata": {},
   "outputs": [
    {
     "data": {
      "text/plain": [
       "TestResults(failed=0, attempted=2)"
      ]
     },
     "execution_count": 9,
     "metadata": {},
     "output_type": "execute_result"
    }
   ],
   "source": [
    "# postfix_test.py\n",
    "def calc(expr):\n",
    "    '''\n",
    "    >>> calc(\"1 2 + 4 * 3 +\")\n",
    "    '15'\n",
    "    >>> calc(\"1 2 3 * + 2 -\")\n",
    "    '5'\n",
    "    '''\n",
    "\n",
    "    st=[]\n",
    "    for i in expr:\n",
    "        if i.isdigit():\n",
    "            st.append(int(i))\n",
    "        elif i==\"+\":\n",
    "            k=st.pop()\n",
    "            st.append(st.pop()+k)\n",
    "        elif i==\"*\":\n",
    "            k=st.pop()\n",
    "            st.append(st.pop()*k)\n",
    "        elif i==\"-\":\n",
    "            k=st.pop()\n",
    "            st.append(st.pop()-k)\n",
    "        elif i==\"/\":\n",
    "            k=st.pop()\n",
    "            st.append(st.pop()/k)\n",
    "    return str(st[0])\n",
    "\n",
    "#print(calc(\"1 2 3 * + 2 -\"))\n",
    "\n",
    "import doctest\n",
    "doctest.testmod()"
   ]
  },
  {
   "cell_type": "code",
   "execution_count": null,
   "metadata": {},
   "outputs": [],
   "source": []
  }
 ],
 "metadata": {
  "kernelspec": {
   "display_name": "Python 3",
   "language": "python",
   "name": "python3"
  },
  "language_info": {
   "codemirror_mode": {
    "name": "ipython",
    "version": 3
   },
   "file_extension": ".py",
   "mimetype": "text/x-python",
   "name": "python",
   "nbconvert_exporter": "python",
   "pygments_lexer": "ipython3",
   "version": "3.7.4"
  }
 },
 "nbformat": 4,
 "nbformat_minor": 2
}
