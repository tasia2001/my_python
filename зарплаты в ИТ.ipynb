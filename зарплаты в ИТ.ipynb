{
 "cells": [
  {
   "cell_type": "code",
   "execution_count": 92,
   "metadata": {},
   "outputs": [
    {
     "data": {
      "text/html": [
       "<div>\n",
       "<style scoped>\n",
       "    .dataframe tbody tr th:only-of-type {\n",
       "        vertical-align: middle;\n",
       "    }\n",
       "\n",
       "    .dataframe tbody tr th {\n",
       "        vertical-align: top;\n",
       "    }\n",
       "\n",
       "    .dataframe thead th {\n",
       "        text-align: right;\n",
       "    }\n",
       "</style>\n",
       "<table border=\"1\" class=\"dataframe\">\n",
       "  <thead>\n",
       "    <tr style=\"text-align: right;\">\n",
       "      <th></th>\n",
       "      <th>id</th>\n",
       "      <th>Дата рождения</th>\n",
       "      <th>Вакансия</th>\n",
       "      <th>Технология</th>\n",
       "      <th>Локация</th>\n",
       "      <th>З/п в валюте найма</th>\n",
       "    </tr>\n",
       "  </thead>\n",
       "  <tbody>\n",
       "    <tr>\n",
       "      <th>0</th>\n",
       "      <td>1</td>\n",
       "      <td>18.04.1994</td>\n",
       "      <td>Инженер-программист 2 категории</td>\n",
       "      <td>JS</td>\n",
       "      <td>Санкт-Петербург</td>\n",
       "      <td>140 000,00 ₽</td>\n",
       "    </tr>\n",
       "    <tr>\n",
       "      <th>1</th>\n",
       "      <td>2</td>\n",
       "      <td>27.03.1993</td>\n",
       "      <td>Разработчик информационных систем</td>\n",
       "      <td>.NET</td>\n",
       "      <td>Москва</td>\n",
       "      <td>130 000,00 ₽</td>\n",
       "    </tr>\n",
       "    <tr>\n",
       "      <th>2</th>\n",
       "      <td>3</td>\n",
       "      <td>24.11.1983</td>\n",
       "      <td>Java Developer</td>\n",
       "      <td>Java</td>\n",
       "      <td>Санкт-Петербург</td>\n",
       "      <td>200 000,00 ₽</td>\n",
       "    </tr>\n",
       "    <tr>\n",
       "      <th>3</th>\n",
       "      <td>4</td>\n",
       "      <td>09.06.1989</td>\n",
       "      <td>Архитектор ПО</td>\n",
       "      <td>Java</td>\n",
       "      <td>Москва</td>\n",
       "      <td>250 000,00 ₽</td>\n",
       "    </tr>\n",
       "    <tr>\n",
       "      <th>4</th>\n",
       "      <td>5</td>\n",
       "      <td>03.10.1978</td>\n",
       "      <td>QA Automation Engineer</td>\n",
       "      <td>QA</td>\n",
       "      <td>Санкт-Петербург</td>\n",
       "      <td>172 413,00 ₽</td>\n",
       "    </tr>\n",
       "  </tbody>\n",
       "</table>\n",
       "</div>"
      ],
      "text/plain": [
       "   id Дата рождения                           Вакансия Технология  \\\n",
       "0   1    18.04.1994    Инженер-программист 2 категории         JS   \n",
       "1   2    27.03.1993  Разработчик информационных систем       .NET   \n",
       "2   3    24.11.1983                     Java Developer       Java   \n",
       "3   4    09.06.1989                      Архитектор ПО       Java   \n",
       "4   5    03.10.1978             QA Automation Engineer         QA   \n",
       "\n",
       "           Локация З/п в валюте найма  \n",
       "0  Санкт-Петербург       140 000,00 ₽  \n",
       "1           Москва       130 000,00 ₽  \n",
       "2  Санкт-Петербург       200 000,00 ₽  \n",
       "3           Москва       250 000,00 ₽  \n",
       "4  Санкт-Петербург       172 413,00 ₽  "
      ]
     },
     "execution_count": 92,
     "metadata": {},
     "output_type": "execute_result"
    }
   ],
   "source": [
    "import pandas as pd\n",
    "\n",
    "df = pd.read_csv('https://raw.githubusercontent.com/dm-fedorov/pandas_basic/master/data/it.csv')\n",
    "df.head()"
   ]
  },
  {
   "cell_type": "markdown",
   "metadata": {},
   "source": [
    "Задание 1"
   ]
  },
  {
   "cell_type": "code",
   "execution_count": 57,
   "metadata": {},
   "outputs": [],
   "source": [
    "def fun(p):\n",
    "    s=[]\n",
    "    for i in p:\n",
    "        if i.isdigit():\n",
    "            s.append(i)\n",
    "    s=float(''.join(s))/100\n",
    "    return(s)\n",
    "#функция переводит строку в число "
   ]
  },
  {
   "cell_type": "code",
   "execution_count": 111,
   "metadata": {},
   "outputs": [],
   "source": [
    "wage=pd.DataFrame(df[df['З/п в валюте найма'].str.contains(\"₽\")]['З/п в валюте найма'].apply(fun))\n",
    "wage['age']=df[df['З/п в валюте найма'].str.contains(\"₽\")][\"Дата рождения\"]"
   ]
  },
  {
   "cell_type": "code",
   "execution_count": 114,
   "metadata": {},
   "outputs": [
    {
     "data": {
      "text/plain": [
       "190669.89"
      ]
     },
     "execution_count": 114,
     "metadata": {},
     "output_type": "execute_result"
    }
   ],
   "source": [
    "round(wage['З/п в валюте найма'].mean(),2)"
   ]
  },
  {
   "cell_type": "markdown",
   "metadata": {},
   "source": [
    "Задание 2"
   ]
  },
  {
   "cell_type": "code",
   "execution_count": 91,
   "metadata": {},
   "outputs": [
    {
     "data": {
      "text/plain": [
       "'Head of Software Testing Department'"
      ]
     },
     "execution_count": 91,
     "metadata": {},
     "output_type": "execute_result"
    }
   ],
   "source": [
    "df.loc[wage.idxmax()]['Вакансия']"
   ]
  },
  {
   "cell_type": "markdown",
   "metadata": {},
   "source": [
    "Задание 3"
   ]
  },
  {
   "cell_type": "code",
   "execution_count": 147,
   "metadata": {},
   "outputs": [],
   "source": [
    "k=wage[wage['З/п в валюте найма']==wage['З/п в валюте найма'].max()]"
   ]
  },
  {
   "cell_type": "code",
   "execution_count": 155,
   "metadata": {},
   "outputs": [],
   "source": [
    "from datetime import datetime\n",
    "import time\n",
    "def make_unix_time(k):\n",
    "    return time.mktime(k.timetuple())"
   ]
  },
  {
   "cell_type": "code",
   "execution_count": 186,
   "metadata": {},
   "outputs": [
    {
     "name": "stdout",
     "output_type": "stream",
     "text": [
      "34\n"
     ]
    }
   ],
   "source": [
    "from datetime import datetime\n",
    "import time\n",
    "day=k['age'][14]\n",
    "day=datetime.strptime(day,'%d.%m.%Y')\n",
    "delta=datetime.now() - day\n",
    "print(round(delta.days/365))"
   ]
  },
  {
   "cell_type": "markdown",
   "metadata": {},
   "source": [
    "Задание 4"
   ]
  },
  {
   "cell_type": "code",
   "execution_count": 188,
   "metadata": {},
   "outputs": [
    {
     "data": {
      "text/plain": [
       "4      172 413,00 ₽\n",
       "9       9 500,00 zł\n",
       "11     12 000,00 zł\n",
       "12     10 500,00 zł\n",
       "13      9 500,00 zł\n",
       "18     200 000,00 ₽\n",
       "19     135 000,00 ₽\n",
       "37     13 000,00 zł\n",
       "38      lev6 446,00\n",
       "39     Ft650 000,00\n",
       "54     80 000,00 Kč\n",
       "Name: З/п в валюте найма, dtype: object"
      ]
     },
     "execution_count": 188,
     "metadata": {},
     "output_type": "execute_result"
    }
   ],
   "source": [
    "df[df['Вакансия'].str.contains(\"Engineer\")]['З/п в валюте найма']"
   ]
  },
  {
   "cell_type": "code",
   "execution_count": null,
   "metadata": {},
   "outputs": [],
   "source": []
  }
 ],
 "metadata": {
  "kernelspec": {
   "display_name": "Python 3",
   "language": "python",
   "name": "python3"
  },
  "language_info": {
   "codemirror_mode": {
    "name": "ipython",
    "version": 3
   },
   "file_extension": ".py",
   "mimetype": "text/x-python",
   "name": "python",
   "nbconvert_exporter": "python",
   "pygments_lexer": "ipython3",
   "version": "3.7.6"
  }
 },
 "nbformat": 4,
 "nbformat_minor": 4
}
