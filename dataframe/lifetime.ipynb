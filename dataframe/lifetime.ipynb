{
 "cells": [
  {
   "cell_type": "code",
   "execution_count": 6,
   "metadata": {},
   "outputs": [],
   "source": [
    "import datetime\n",
    "from datetime import datetime, timedelta"
   ]
  },
  {
   "cell_type": "markdown",
   "metadata": {},
   "source": [
    "Задание 1"
   ]
  },
  {
   "cell_type": "code",
   "execution_count": 10,
   "metadata": {},
   "outputs": [],
   "source": [
    "date_str='May 9 2017 9:00AM'\n",
    "date_n=datetime.strptime(date_str,'%b %d %Y %H:%M%p')"
   ]
  },
  {
   "cell_type": "code",
   "execution_count": 12,
   "metadata": {},
   "outputs": [
    {
     "data": {
      "text/plain": [
       "9"
      ]
     },
     "execution_count": 12,
     "metadata": {},
     "output_type": "execute_result"
    }
   ],
   "source": [
    "date_n.hour"
   ]
  },
  {
   "cell_type": "markdown",
   "metadata": {},
   "source": [
    "Задание 2"
   ]
  },
  {
   "cell_type": "code",
   "execution_count": 14,
   "metadata": {},
   "outputs": [],
   "source": [
    "date_n+=timedelta(hours=1)"
   ]
  },
  {
   "cell_type": "code",
   "execution_count": 15,
   "metadata": {},
   "outputs": [
    {
     "data": {
      "text/plain": [
       "datetime.datetime(2017, 5, 9, 10, 0)"
      ]
     },
     "execution_count": 15,
     "metadata": {},
     "output_type": "execute_result"
    }
   ],
   "source": [
    "date_n"
   ]
  },
  {
   "cell_type": "markdown",
   "metadata": {},
   "source": [
    "Задание 3"
   ]
  },
  {
   "cell_type": "code",
   "execution_count": 19,
   "metadata": {},
   "outputs": [
    {
     "data": {
      "text/plain": [
       "'2017-05-09'"
      ]
     },
     "execution_count": 19,
     "metadata": {},
     "output_type": "execute_result"
    }
   ],
   "source": [
    "date_m=date_n.strftime('%Y-%m-%d')\n",
    "date_m"
   ]
  },
  {
   "cell_type": "markdown",
   "metadata": {},
   "source": [
    "Задание 4"
   ]
  },
  {
   "cell_type": "code",
   "execution_count": 25,
   "metadata": {},
   "outputs": [],
   "source": [
    "startDate='2017-01-01'\n",
    "endDate='2017-01-03'\n",
    "startDate_datetime=datetime.strptime(startDate,'%Y-%m-%d')\n",
    "endDate_datetime=datetime.strptime(endDate,'%Y-%m-%d')"
   ]
  },
  {
   "cell_type": "code",
   "execution_count": 27,
   "metadata": {},
   "outputs": [
    {
     "name": "stdout",
     "output_type": "stream",
     "text": [
      "2017-01-01 00:00:00\n",
      "2017-01-01 01:00:00\n",
      "2017-01-01 02:00:00\n",
      "2017-01-01 03:00:00\n",
      "2017-01-01 04:00:00\n",
      "2017-01-01 05:00:00\n",
      "2017-01-01 06:00:00\n",
      "2017-01-01 07:00:00\n",
      "2017-01-01 08:00:00\n",
      "2017-01-01 09:00:00\n",
      "2017-01-01 10:00:00\n",
      "2017-01-01 11:00:00\n",
      "2017-01-01 12:00:00\n",
      "2017-01-01 13:00:00\n",
      "2017-01-01 14:00:00\n",
      "2017-01-01 15:00:00\n",
      "2017-01-01 16:00:00\n",
      "2017-01-01 17:00:00\n",
      "2017-01-01 18:00:00\n",
      "2017-01-01 19:00:00\n",
      "2017-01-01 20:00:00\n",
      "2017-01-01 21:00:00\n",
      "2017-01-01 22:00:00\n",
      "2017-01-01 23:00:00\n",
      "2017-01-02 00:00:00\n",
      "2017-01-02 01:00:00\n",
      "2017-01-02 02:00:00\n",
      "2017-01-02 03:00:00\n",
      "2017-01-02 04:00:00\n",
      "2017-01-02 05:00:00\n",
      "2017-01-02 06:00:00\n",
      "2017-01-02 07:00:00\n",
      "2017-01-02 08:00:00\n",
      "2017-01-02 09:00:00\n",
      "2017-01-02 10:00:00\n",
      "2017-01-02 11:00:00\n",
      "2017-01-02 12:00:00\n",
      "2017-01-02 13:00:00\n",
      "2017-01-02 14:00:00\n",
      "2017-01-02 15:00:00\n",
      "2017-01-02 16:00:00\n",
      "2017-01-02 17:00:00\n",
      "2017-01-02 18:00:00\n",
      "2017-01-02 19:00:00\n",
      "2017-01-02 20:00:00\n",
      "2017-01-02 21:00:00\n",
      "2017-01-02 22:00:00\n",
      "2017-01-02 23:00:00\n"
     ]
    }
   ],
   "source": [
    "currentDay=startDate_datetime\n",
    "while currentDay<endDate_datetime:\n",
    "    print(currentDay.strftime('%Y-%m-%d %H:%M:%S'))\n",
    "    currentDay+=timedelta(hours=1)"
   ]
  },
  {
   "cell_type": "markdown",
   "metadata": {},
   "source": [
    "Задание 5"
   ]
  },
  {
   "cell_type": "code",
   "execution_count": 3,
   "metadata": {},
   "outputs": [],
   "source": [
    "import pandas as pd\n",
    "data = pd.read_csv('https://raw.githubusercontent.com/dm-fedorov/pandas_basic/master/data/data.tsv', sep='\\t')"
   ]
  },
  {
   "cell_type": "code",
   "execution_count": 4,
   "metadata": {},
   "outputs": [],
   "source": [
    "def convert_to_datetime(row):\n",
    "    return datetime.strptime(row['date'], '%d.%m.%Y %H:%M')"
   ]
  },
  {
   "cell_type": "code",
   "execution_count": 7,
   "metadata": {},
   "outputs": [],
   "source": [
    "data['datetime'] = data.apply(convert_to_datetime, axis=1)"
   ]
  },
  {
   "cell_type": "code",
   "execution_count": 8,
   "metadata": {},
   "outputs": [],
   "source": [
    "import time\n",
    "def make_unix_time(row):\n",
    "    return time.mktime(row['datetime'].timetuple())"
   ]
  },
  {
   "cell_type": "code",
   "execution_count": 9,
   "metadata": {},
   "outputs": [],
   "source": [
    "data['unixtime'] = data.apply(make_unix_time, axis=1)"
   ]
  },
  {
   "cell_type": "code",
   "execution_count": 12,
   "metadata": {},
   "outputs": [
    {
     "data": {
      "text/plain": [
       "user_id\n",
       "1010         0.0\n",
       "1036         0.0\n",
       "1041     71760.0\n",
       "1042    647340.0\n",
       "1047    374520.0\n",
       "          ...   \n",
       "1393         0.0\n",
       "1394         0.0\n",
       "1397         0.0\n",
       "1398         0.0\n",
       "1424    721380.0\n",
       "Name: unixtime, Length: 124, dtype: float64"
      ]
     },
     "execution_count": 12,
     "metadata": {},
     "output_type": "execute_result"
    }
   ],
   "source": [
    "gr=data.groupby('user_id')['unixtime']\n",
    "dates=gr.max()-gr.min()\n",
    "dates"
   ]
  },
  {
   "cell_type": "code",
   "execution_count": 18,
   "metadata": {},
   "outputs": [],
   "source": [
    "new_dates=pd.DataFrame({'user_id':dates.index,'diff':dates.values})"
   ]
  },
  {
   "cell_type": "code",
   "execution_count": 33,
   "metadata": {},
   "outputs": [
    {
     "data": {
      "text/plain": [
       "3.49"
      ]
     },
     "execution_count": 33,
     "metadata": {},
     "output_type": "execute_result"
    }
   ],
   "source": [
    "new_new=new_dates[new_dates['diff']>0]\n",
    "value=new_new['diff'].mean()\n",
    "value=value/86400\n",
    "round(value,2)"
   ]
  },
  {
   "cell_type": "code",
   "execution_count": null,
   "metadata": {},
   "outputs": [],
   "source": []
  }
 ],
 "metadata": {
  "kernelspec": {
   "display_name": "Python 3",
   "language": "python",
   "name": "python3"
  },
  "language_info": {
   "codemirror_mode": {
    "name": "ipython",
    "version": 3
   },
   "file_extension": ".py",
   "mimetype": "text/x-python",
   "name": "python",
   "nbconvert_exporter": "python",
   "pygments_lexer": "ipython3",
   "version": "3.7.6"
  }
 },
 "nbformat": 4,
 "nbformat_minor": 4
}
