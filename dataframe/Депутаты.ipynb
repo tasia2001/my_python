{
 "cells": [
  {
   "cell_type": "code",
   "execution_count": 1,
   "metadata": {},
   "outputs": [
    {
     "data": {
      "text/html": [
       "<div>\n",
       "<style scoped>\n",
       "    .dataframe tbody tr th:only-of-type {\n",
       "        vertical-align: middle;\n",
       "    }\n",
       "\n",
       "    .dataframe tbody tr th {\n",
       "        vertical-align: top;\n",
       "    }\n",
       "\n",
       "    .dataframe thead th {\n",
       "        text-align: right;\n",
       "    }\n",
       "</style>\n",
       "<table border=\"1\" class=\"dataframe\">\n",
       "  <thead>\n",
       "    <tr style=\"text-align: right;\">\n",
       "      <th></th>\n",
       "      <th>name</th>\n",
       "      <th>lastname</th>\n",
       "      <th>otchestvo</th>\n",
       "      <th>gender</th>\n",
       "      <th>birthdate</th>\n",
       "      <th>start</th>\n",
       "      <th>end</th>\n",
       "      <th>district</th>\n",
       "    </tr>\n",
       "  </thead>\n",
       "  <tbody>\n",
       "    <tr>\n",
       "      <th>0</th>\n",
       "      <td>Ефимов</td>\n",
       "      <td>Виталий</td>\n",
       "      <td>Борисович</td>\n",
       "      <td>м</td>\n",
       "      <td>04.04.1940</td>\n",
       "      <td>18.09.2016</td>\n",
       "      <td>NaN</td>\n",
       "      <td>Мордовский</td>\n",
       "    </tr>\n",
       "    <tr>\n",
       "      <th>1</th>\n",
       "      <td>Максимова</td>\n",
       "      <td>Надежда</td>\n",
       "      <td>Сергеевна</td>\n",
       "      <td>ж</td>\n",
       "      <td>13.01.1942</td>\n",
       "      <td>18.09.2016</td>\n",
       "      <td>NaN</td>\n",
       "      <td>Хакасский</td>\n",
       "    </tr>\n",
       "    <tr>\n",
       "      <th>2</th>\n",
       "      <td>Мищеряков</td>\n",
       "      <td>Юрий</td>\n",
       "      <td>Николаевич</td>\n",
       "      <td>м</td>\n",
       "      <td>01.01.1945</td>\n",
       "      <td>18.09.2016</td>\n",
       "      <td>NaN</td>\n",
       "      <td>Оренбургский</td>\n",
       "    </tr>\n",
       "    <tr>\n",
       "      <th>3</th>\n",
       "      <td>Борцов</td>\n",
       "      <td>Николай</td>\n",
       "      <td>Иванович</td>\n",
       "      <td>м</td>\n",
       "      <td>08.09.1945</td>\n",
       "      <td>18.09.2016</td>\n",
       "      <td>NaN</td>\n",
       "      <td>Липецкий</td>\n",
       "    </tr>\n",
       "    <tr>\n",
       "      <th>4</th>\n",
       "      <td>Гончар</td>\n",
       "      <td>Николай</td>\n",
       "      <td>Николаевич</td>\n",
       "      <td>м</td>\n",
       "      <td>18.10.1946</td>\n",
       "      <td>18.09.2016</td>\n",
       "      <td>NaN</td>\n",
       "      <td>Центральный</td>\n",
       "    </tr>\n",
       "  </tbody>\n",
       "</table>\n",
       "</div>"
      ],
      "text/plain": [
       "        name lastname   otchestvo gender   birthdate       start  end  \\\n",
       "0     Ефимов  Виталий   Борисович      м  04.04.1940  18.09.2016  NaN   \n",
       "1  Максимова  Надежда   Сергеевна      ж  13.01.1942  18.09.2016  NaN   \n",
       "2  Мищеряков     Юрий  Николаевич      м  01.01.1945  18.09.2016  NaN   \n",
       "3     Борцов  Николай    Иванович      м  08.09.1945  18.09.2016  NaN   \n",
       "4     Гончар  Николай  Николаевич      м  18.10.1946  18.09.2016  NaN   \n",
       "\n",
       "       district  \n",
       "0    Мордовский  \n",
       "1     Хакасский  \n",
       "2  Оренбургский  \n",
       "3      Липецкий  \n",
       "4   Центральный  "
      ]
     },
     "execution_count": 1,
     "metadata": {},
     "output_type": "execute_result"
    }
   ],
   "source": [
    "import pandas as pd\n",
    "url = \"https://raw.githubusercontent.com/dm-fedorov/pandas_basic/master/data/deputat.csv\"\n",
    "df = pd.read_csv(url)\n",
    "df.head()"
   ]
  },
  {
   "cell_type": "markdown",
   "metadata": {},
   "source": [
    "Задание 1"
   ]
  },
  {
   "cell_type": "code",
   "execution_count": 20,
   "metadata": {},
   "outputs": [],
   "source": [
    "from datetime import datetime\n",
    "import time\n",
    "from math import floor\n",
    "def years(date):\n",
    "    day=datetime.strptime(date,'%d.%m.%Y')\n",
    "    delta=datetime.now() - day\n",
    "    return floor(delta.days/365)"
   ]
  },
  {
   "cell_type": "code",
   "execution_count": 27,
   "metadata": {},
   "outputs": [
    {
     "data": {
      "text/plain": [
       "56"
      ]
     },
     "execution_count": 27,
     "metadata": {},
     "output_type": "execute_result"
    }
   ],
   "source": [
    "df['age']=df['birthdate'].apply(years)\n",
    "round(df['age'].mean())"
   ]
  },
  {
   "cell_type": "markdown",
   "metadata": {},
   "source": [
    "Задание 2"
   ]
  },
  {
   "cell_type": "code",
   "execution_count": 47,
   "metadata": {},
   "outputs": [
    {
     "data": {
      "text/plain": [
       "84.8"
      ]
     },
     "execution_count": 47,
     "metadata": {},
     "output_type": "execute_result"
    }
   ],
   "source": [
    "length=len(df)\n",
    "men=round(len(df[df['gender']=='м'])/length*100,1)\n",
    "men\n",
    "#число мужчин от общего числа"
   ]
  },
  {
   "cell_type": "code",
   "execution_count": 49,
   "metadata": {},
   "outputs": [
    {
     "data": {
      "text/plain": [
       "15.2"
      ]
     },
     "execution_count": 49,
     "metadata": {},
     "output_type": "execute_result"
    }
   ],
   "source": [
    "round(100-men,1)"
   ]
  },
  {
   "cell_type": "code",
   "execution_count": null,
   "metadata": {},
   "outputs": [],
   "source": []
  }
 ],
 "metadata": {
  "kernelspec": {
   "display_name": "Python 3",
   "language": "python",
   "name": "python3"
  },
  "language_info": {
   "codemirror_mode": {
    "name": "ipython",
    "version": 3
   },
   "file_extension": ".py",
   "mimetype": "text/x-python",
   "name": "python",
   "nbconvert_exporter": "python",
   "pygments_lexer": "ipython3",
   "version": "3.7.6"
  }
 },
 "nbformat": 4,
 "nbformat_minor": 4
}
