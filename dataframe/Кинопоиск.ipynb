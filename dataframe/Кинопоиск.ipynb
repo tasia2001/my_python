{
 "cells": [
  {
   "cell_type": "code",
   "execution_count": 7,
   "metadata": {},
   "outputs": [
    {
     "data": {
      "text/html": [
       "<div>\n",
       "<style scoped>\n",
       "    .dataframe tbody tr th:only-of-type {\n",
       "        vertical-align: middle;\n",
       "    }\n",
       "\n",
       "    .dataframe tbody tr th {\n",
       "        vertical-align: top;\n",
       "    }\n",
       "\n",
       "    .dataframe thead th {\n",
       "        text-align: right;\n",
       "    }\n",
       "</style>\n",
       "<table border=\"1\" class=\"dataframe\">\n",
       "  <thead>\n",
       "    <tr style=\"text-align: right;\">\n",
       "      <th></th>\n",
       "      <th>name</th>\n",
       "      <th>country</th>\n",
       "      <th>time</th>\n",
       "      <th>ranking</th>\n",
       "      <th>type</th>\n",
       "      <th>year</th>\n",
       "      <th>director</th>\n",
       "    </tr>\n",
       "  </thead>\n",
       "  <tbody>\n",
       "    <tr>\n",
       "      <th>0</th>\n",
       "      <td>Невеста</td>\n",
       "      <td>Россия</td>\n",
       "      <td>74</td>\n",
       "      <td>7,66</td>\n",
       "      <td>фильм</td>\n",
       "      <td>2006</td>\n",
       "      <td>Билли Уайлдер</td>\n",
       "    </tr>\n",
       "    <tr>\n",
       "      <th>1</th>\n",
       "      <td>Кто приходит в зимний вечер</td>\n",
       "      <td>Россия</td>\n",
       "      <td>90</td>\n",
       "      <td>6,038</td>\n",
       "      <td>фильм</td>\n",
       "      <td>2006</td>\n",
       "      <td>Билли Уайлдер</td>\n",
       "    </tr>\n",
       "    <tr>\n",
       "      <th>2</th>\n",
       "      <td>Моя мама Снегурочка</td>\n",
       "      <td>Россия</td>\n",
       "      <td>90</td>\n",
       "      <td>6,828</td>\n",
       "      <td>фильм</td>\n",
       "      <td>2007</td>\n",
       "      <td>Билли Уайлдер</td>\n",
       "    </tr>\n",
       "    <tr>\n",
       "      <th>3</th>\n",
       "      <td>Набережная Орфевр</td>\n",
       "      <td>Франция</td>\n",
       "      <td>106</td>\n",
       "      <td>7,597</td>\n",
       "      <td>фильм</td>\n",
       "      <td>1947</td>\n",
       "      <td>Билли Уайлдер</td>\n",
       "    </tr>\n",
       "    <tr>\n",
       "      <th>4</th>\n",
       "      <td>Лузер</td>\n",
       "      <td>Россия</td>\n",
       "      <td>104</td>\n",
       "      <td>6,065</td>\n",
       "      <td>фильм</td>\n",
       "      <td>2007</td>\n",
       "      <td>Билли Уайлдер</td>\n",
       "    </tr>\n",
       "  </tbody>\n",
       "</table>\n",
       "</div>"
      ],
      "text/plain": [
       "                          name  country  time ranking   type  year  \\\n",
       "0                      Невеста   Россия    74    7,66  фильм  2006   \n",
       "1  Кто приходит в зимний вечер   Россия    90   6,038  фильм  2006   \n",
       "2          Моя мама Снегурочка   Россия    90   6,828  фильм  2007   \n",
       "3            Набережная Орфевр  Франция   106   7,597  фильм  1947   \n",
       "4                       Лузер    Россия   104   6,065  фильм  2007   \n",
       "\n",
       "        director  \n",
       "0  Билли Уайлдер  \n",
       "1  Билли Уайлдер  \n",
       "2  Билли Уайлдер  \n",
       "3  Билли Уайлдер  \n",
       "4  Билли Уайлдер  "
      ]
     },
     "execution_count": 7,
     "metadata": {},
     "output_type": "execute_result"
    }
   ],
   "source": [
    "import pandas as pd\n",
    "url = \"https://raw.githubusercontent.com/dm-fedorov/pandas_basic/master/data/new_year_film.csv\"\n",
    "movies=pd.read_csv(url)\n",
    "movies.head()"
   ]
  },
  {
   "cell_type": "code",
   "execution_count": 60,
   "metadata": {},
   "outputs": [],
   "source": [
    "movies['new_ranking']=movies['ranking'].str.replace(',','.')"
   ]
  },
  {
   "cell_type": "code",
   "execution_count": 66,
   "metadata": {},
   "outputs": [],
   "source": [
    "all_rank=list(map(float,movies['new_ranking']))"
   ]
  },
  {
   "cell_type": "code",
   "execution_count": 68,
   "metadata": {},
   "outputs": [
    {
     "data": {
      "text/plain": [
       "7.22"
      ]
     },
     "execution_count": 68,
     "metadata": {},
     "output_type": "execute_result"
    }
   ],
   "source": [
    "round(sum(all_rank)/len(all_rank),2)"
   ]
  },
  {
   "cell_type": "code",
   "execution_count": null,
   "metadata": {},
   "outputs": [],
   "source": []
  }
 ],
 "metadata": {
  "kernelspec": {
   "display_name": "Python 3",
   "language": "python",
   "name": "python3"
  },
  "language_info": {
   "codemirror_mode": {
    "name": "ipython",
    "version": 3
   },
   "file_extension": ".py",
   "mimetype": "text/x-python",
   "name": "python",
   "nbconvert_exporter": "python",
   "pygments_lexer": "ipython3",
   "version": "3.7.6"
  }
 },
 "nbformat": 4,
 "nbformat_minor": 4
}
