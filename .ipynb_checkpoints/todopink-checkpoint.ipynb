{
 "cells": [
  {
   "cell_type": "code",
   "execution_count": 1,
   "metadata": {},
   "outputs": [],
   "source": [
    "from tkinter import *\n",
    "import json\n",
    "with open(\"to__do.json\",\"w\") as f:\n",
    "    listt=[]\n",
    "    def clear():\n",
    "            task.delete(0,END)\n",
    "            cat.delete(0,END)\n",
    "            time.delete(0,END)\n",
    "    def send():\n",
    "        a=json.dump({\"задача\":task.get(),\"категория\":cat.get(),\"время\":time.get()},f)\n",
    "        listt.append({\"задача\":task.get(),\"категория\":cat.get(),\"время\":time.get()})\n",
    "        clear()\n",
    "    def tasks():\n",
    "        print(listt)            \n",
    "        \n",
    "    \n",
    "    window=Tk()\n",
    "    window[\"bg\"]=\"pink\"\n",
    "    window.title(\"Менеджер задач\")\n",
    "    task_label=Label(window,text=\"Задача:\",bg=\"pink\")\n",
    "    cat_label=Label(window,text=\"Категория:\",bg=\"pink\")\n",
    "    time_label=Label(window,text=\"Время:\",bg=\"pink\")\n",
    "    task_label.grid(row=0,column=0)\n",
    "    cat_label.grid(row=1,column=0)\n",
    "    time_label.grid(row=2,column=0)\n",
    "    task=Entry(window)\n",
    "    cat=Entry(window)\n",
    "    time=Entry(window)\n",
    "    task.grid(row=0,column=1,columnspan=2)\n",
    "    cat.grid(row=1,column=1,columnspan=2)\n",
    "    time.grid(row=2,column=1,columnspan=2)\n",
    "    button1=Button(window,text=\"Заказать\",command=send,bg=\"lightpink\")\n",
    "    button2=Button(window,text=\"Список задач\",command=tasks,bg=\"lightpink\")\n",
    "    button3=Button(window,text=\"Выход\",command=exit,bg=\"lightpink\")\n",
    "    button1.grid(row=3,column=1)\n",
    "    button2.grid(row=4,column=1)\n",
    "    button3.grid(row=5,column=1)\n",
    "    \n",
    "    window.mainloop()"
   ]
  },
  {
   "cell_type": "code",
   "execution_count": null,
   "metadata": {},
   "outputs": [],
   "source": []
  }
 ],
 "metadata": {
  "kernelspec": {
   "display_name": "Python 3",
   "language": "python",
   "name": "python3"
  },
  "language_info": {
   "codemirror_mode": {
    "name": "ipython",
    "version": 3
   },
   "file_extension": ".py",
   "mimetype": "text/x-python",
   "name": "python",
   "nbconvert_exporter": "python",
   "pygments_lexer": "ipython3",
   "version": "3.7.6"
  }
 },
 "nbformat": 4,
 "nbformat_minor": 4
}
