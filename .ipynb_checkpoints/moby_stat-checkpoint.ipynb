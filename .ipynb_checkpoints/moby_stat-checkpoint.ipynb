{
 "cells": [
  {
   "cell_type": "code",
   "execution_count": 53,
   "metadata": {},
   "outputs": [
    {
     "name": "stdout",
     "output_type": "stream",
     "text": [
      "(\"'call\", 1)\n",
      "('ishmael', 1)\n",
      "('years', 1)\n",
      "('agonever', 1)\n",
      "('mind', 1)\n",
      "('it', 6)\n",
      "('is', 6)\n",
      "('i', 7)\n",
      "('of', 7)\n",
      "('the', 13)\n"
     ]
    }
   ],
   "source": [
    "def histogram(s):\n",
    "    word_count = {}\n",
    "    for word in s:\n",
    "        word_count.setdefault(word, 0)  # word_count[key] = 0, если такого key не было ранее\n",
    "        word_count[word] += 1 # word_count[word] = word_count[word] + 1        \n",
    "    return word_count\n",
    "\n",
    "\n",
    "with open('moby_clean.txt','r') as reader:\n",
    "    s=reader.readline()\n",
    "    s=str(s).split(' ')\n",
    "    d=histogram(s)\n",
    "    p=list(d.items())\n",
    "    s=p.sort(key=lambda i:i[1])\n",
    "    for i in range(5):\n",
    "        print(p[i])\n",
    "    for i in range(len(p)-5,len(p)):\n",
    "        print(p[i])"
   ]
  },
  {
   "cell_type": "code",
   "execution_count": null,
   "metadata": {},
   "outputs": [],
   "source": []
  }
 ],
 "metadata": {
  "kernelspec": {
   "display_name": "Python 3",
   "language": "python",
   "name": "python3"
  },
  "language_info": {
   "codemirror_mode": {
    "name": "ipython",
    "version": 3
   },
   "file_extension": ".py",
   "mimetype": "text/x-python",
   "name": "python",
   "nbconvert_exporter": "python",
   "pygments_lexer": "ipython3",
   "version": "3.7.6"
  }
 },
 "nbformat": 4,
 "nbformat_minor": 4
}
