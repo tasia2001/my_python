{
 "cells": [
  {
   "cell_type": "code",
   "execution_count": 80,
   "metadata": {},
   "outputs": [],
   "source": [
    "def normal(x):\n",
    "    marks=['.',',','-',':',';','-','[',']']\n",
    "    for i in marks:\n",
    "        x=(str(x).lower()).replace(i,'')\n",
    "    return x   \n",
    "\n",
    "\n",
    "with open('moby.txt','r') as reader, open('moby_clean1.txt', 'w') as writer:\n",
    "    l=reader.readlines()\n",
    "    for i in l:\n",
    "        writer.write(normal(i))\n",
    "\n",
    "\n",
    "\n"
   ]
  },
  {
   "cell_type": "code",
   "execution_count": null,
   "metadata": {},
   "outputs": [],
   "source": [
    "\n"
   ]
  },
  {
   "cell_type": "code",
   "execution_count": null,
   "metadata": {},
   "outputs": [],
   "source": []
  }
 ],
 "metadata": {
  "kernelspec": {
   "display_name": "Python 3",
   "language": "python",
   "name": "python3"
  },
  "language_info": {
   "codemirror_mode": {
    "name": "ipython",
    "version": 3
   },
   "file_extension": ".py",
   "mimetype": "text/x-python",
   "name": "python",
   "nbconvert_exporter": "python",
   "pygments_lexer": "ipython3",
   "version": "3.7.6"
  }
 },
 "nbformat": 4,
 "nbformat_minor": 4
}
