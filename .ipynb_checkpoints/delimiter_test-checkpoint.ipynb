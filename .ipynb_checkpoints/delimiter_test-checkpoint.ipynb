{
 "cells": [
  {
   "cell_type": "code",
   "execution_count": 97,
   "metadata": {},
   "outputs": [
    {
     "data": {
      "text/plain": [
       "TestResults(failed=0, attempted=3)"
      ]
     },
     "execution_count": 97,
     "metadata": {},
     "output_type": "execute_result"
    }
   ],
   "source": [
    "def check_delimiter(s):\n",
    "    '''\n",
    "    >>> check_delimiter(\"( ) { [ ] ( ) { } }\")    \n",
    "    True\n",
    "    >>> check_delimiter(\"( ) { [ ] }\")    \n",
    "    True\n",
    "    >>> check_delimiter(\"( ) { [ ] ( ] { } }\")    \n",
    "    False\n",
    "    \n",
    "    '''\n",
    "    st=[1]\n",
    "    s=s.replace(\" \",\"\")\n",
    "    for i in s:\n",
    "        if i==\"}\":\n",
    "            if st.pop()!=\"{\":\n",
    "                print(False)\n",
    "                break\n",
    "        elif i==\"]\":\n",
    "            if st.pop()!=\"[\":\n",
    "                print(False)\n",
    "                break\n",
    "        elif i==\")\":\n",
    "            if st.pop()!=\"(\":\n",
    "                print(False)\n",
    "                break\n",
    "        else: st.append(i)\n",
    "    if st==[1]:\n",
    "        print(True)\n",
    "    \n",
    "\n",
    "import doctest\n",
    "doctest.testmod()\n"
   ]
  },
  {
   "cell_type": "code",
   "execution_count": null,
   "metadata": {},
   "outputs": [],
   "source": []
  }
 ],
 "metadata": {
  "kernelspec": {
   "display_name": "Python 3",
   "language": "python",
   "name": "python3"
  },
  "language_info": {
   "codemirror_mode": {
    "name": "ipython",
    "version": 3
   },
   "file_extension": ".py",
   "mimetype": "text/x-python",
   "name": "python",
   "nbconvert_exporter": "python",
   "pygments_lexer": "ipython3",
   "version": "3.7.4"
  }
 },
 "nbformat": 4,
 "nbformat_minor": 2
}
