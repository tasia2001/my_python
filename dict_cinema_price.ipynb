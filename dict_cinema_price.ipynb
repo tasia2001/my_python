{
 "cells": [
  {
   "cell_type": "code",
   "execution_count": 10,
   "metadata": {},
   "outputs": [],
   "source": [
    "cinema={\"ПАРАЗИТЫ\":{\"12\":250,\"16\":350,\"20\":450},\n",
    "        \"1917\":{\"10\":250,\"13\":350,\"16\":350},\n",
    "        \"Соник в кино\":{\"10\":350,\"14\":450,\"18\":450}}"
   ]
  },
  {
   "cell_type": "code",
   "execution_count": 11,
   "metadata": {},
   "outputs": [
    {
     "name": "stdout",
     "output_type": "stream",
     "text": [
      "Название фильма: Соник в кино\n",
      "Время сеанса: 14\n",
      "Количество билетов: 4\n"
     ]
    },
    {
     "data": {
      "text/plain": [
       "1800"
      ]
     },
     "execution_count": 11,
     "metadata": {},
     "output_type": "execute_result"
    }
   ],
   "source": [
    "(cinema[input(\"Название фильма: \")][input(\"Время сеанса: \")])*(int(input(\"Количество билетов: \")))"
   ]
  }
 ],
 "metadata": {
  "kernelspec": {
   "display_name": "Python 3",
   "language": "python",
   "name": "python3"
  }
 },
 "nbformat": 4,
 "nbformat_minor": 2
}
