{
 "cells": [
  {
   "cell_type": "code",
   "execution_count": 1,
   "metadata": {},
   "outputs": [
    {
     "name": "stdout",
     "output_type": "stream",
     "text": [
      "Простой todo:\n",
      "1. Добавить задачу.\n",
      "2. Вывести список задач.\n",
      "3. Выход.\n",
      "Укажите число: 1\n",
      "Сформулируйте задачу: купить хлеб\n",
      "Добавьте категорию к задаче: покупки\n",
      "Добавьте время к задаче: сегодня\n",
      "Укажите число: 1\n",
      "Сформулируйте задачу: купить квартиру\n",
      "Добавьте категорию к задаче: покупки\n",
      "Добавьте время к задаче: в будущем\n",
      "Укажите число: 2\n",
      "Задача:купить хлеб Категория: покупки Дата: сегодня\n",
      "Задача:купить квартиру Категория: покупки Дата: в будущем\n",
      "Укажите число: 3\n",
      "Выход из программы\n"
     ]
    }
   ],
   "source": [
    "print(\"Простой todo:\\n1. Добавить задачу.\\n2. Вывести список задач.\\n3. Выход.\")\n",
    "l=[]\n",
    "while True:\n",
    "    command=int(input(\"Укажите число: \"))\n",
    "    if command==1:\n",
    "        l.append('Задача:'+input(\"Сформулируйте задачу: \")+\" Категория: \"+input(\"Добавьте категорию к задаче: \")+\" Дата: \"+input(\"Добавьте время к задаче: \"))\n",
    "    elif command==2:\n",
    "        [print(i) for i in l]\n",
    "    elif command==3:\n",
    "        print(\"Выход из программы\")\n",
    "        break\n",
    "    else:\n",
    "        print(\"Ошибка ввода\")"
   ]
  },
  {
   "cell_type": "code",
   "execution_count": null,
   "metadata": {},
   "outputs": [],
   "source": []
  }
 ],
 "metadata": {
  "kernelspec": {
   "display_name": "Python 3",
   "language": "python",
   "name": "python3"
  },
  "language_info": {
   "codemirror_mode": {
    "name": "ipython",
    "version": 3
   },
   "file_extension": ".py",
   "mimetype": "text/x-python",
   "name": "python",
   "nbconvert_exporter": "python",
   "pygments_lexer": "ipython3",
   "version": "3.7.4"
  }
 },
 "nbformat": 4,
 "nbformat_minor": 2
}
