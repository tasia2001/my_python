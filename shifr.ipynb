{
 "cells": [
  {
   "cell_type": "code",
   "execution_count": 95,
   "metadata": {},
   "outputs": [],
   "source": [
    "codes={\"a\":\"%\",\"b\":\"9\",\"c\":\"&\",\"\\n\":\"\\n\"}"
   ]
  },
  {
   "cell_type": "code",
   "execution_count": 131,
   "metadata": {},
   "outputs": [],
   "source": [
    "with open(\"texttt.txt\",'r') as reader, open('shifrtext.txt','w') as writer:\n",
    "    codes={\"a\":\"%\",\"b\":\"9\",\"c\":\"&\",\"j\":\"*\",\" \":\" \",\"\\n\":\"\\n\"}\n",
    "    read=reader.readlines()\n",
    "    r=[]\n",
    "    for i in read:\n",
    "        a=list(i)\n",
    "        r=(list(map(lambda x: codes[x],a)))\n",
    "        u=list(map(lambda x: ''.join(x),r))\n",
    "        writer.writelines(u)"
   ]
  },
  {
   "cell_type": "code",
   "execution_count": 120,
   "metadata": {},
   "outputs": [
    {
     "data": {
      "text/plain": [
       "['k', 'h', 'd', 'j', 'a', 'h', 's', ' ', 'w', 'w']"
      ]
     },
     "execution_count": 120,
     "metadata": {},
     "output_type": "execute_result"
    }
   ],
   "source": [
    "list(\"khdjahs ww\")"
   ]
  },
  {
   "cell_type": "code",
   "execution_count": null,
   "metadata": {},
   "outputs": [],
   "source": []
  }
 ],
 "metadata": {
  "kernelspec": {
   "display_name": "Python 3",
   "language": "python",
   "name": "python3"
  },
  "language_info": {
   "codemirror_mode": {
    "name": "ipython",
    "version": 3
   },
   "file_extension": ".py",
   "mimetype": "text/x-python",
   "name": "python",
   "nbconvert_exporter": "python",
   "pygments_lexer": "ipython3",
   "version": "3.7.6"
  }
 },
 "nbformat": 4,
 "nbformat_minor": 4
}
