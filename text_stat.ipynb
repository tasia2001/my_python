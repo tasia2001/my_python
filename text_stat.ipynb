{
 "cells": [
  {
   "cell_type": "code",
   "execution_count": 21,
   "metadata": {},
   "outputs": [
    {
     "name": "stdout",
     "output_type": "stream",
     "text": [
      "['1 Край любимый! Сердцу снятся\\n', '2 Скирды солнца в водах лонных,\\n', '3 Я хотел бы затеряться\\n', '4 В зеленях твоих стозвонных.\\n']\n"
     ]
    }
   ],
   "source": [
    "with open('text1.txt','r',encoding='utf8') as reader, open('update_text','w') as writer:\n",
    "    read=reader.readlines()\n",
    "    count=1\n",
    "    row1=[]\n",
    "    for i in range(len(read)):\n",
    "        row1.append(str(i+1)+' '+read[i])\n",
    "    print(row1)\n",
    "    \n",
    "    writer.writelines(row1)"
   ]
  },
  {
   "cell_type": "code",
   "execution_count": null,
   "metadata": {},
   "outputs": [],
   "source": []
  }
 ],
 "metadata": {
  "kernelspec": {
   "display_name": "Python 3",
   "language": "python",
   "name": "python3"
  },
  "language_info": {
   "codemirror_mode": {
    "name": "ipython",
    "version": 3
   },
   "file_extension": ".py",
   "mimetype": "text/x-python",
   "name": "python",
   "nbconvert_exporter": "python",
   "pygments_lexer": "ipython3",
   "version": "3.7.6"
  }
 },
 "nbformat": 4,
 "nbformat_minor": 4
}
