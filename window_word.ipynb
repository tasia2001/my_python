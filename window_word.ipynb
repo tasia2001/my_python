{
 "cells": [
  {
   "cell_type": "code",
   "execution_count": 63,
   "metadata": {},
   "outputs": [],
   "source": [
    "from tkinter import *\n",
    "from random import choice\n",
    "d={\"sadness\":\"печаль\",\"indifference\":\"безразличие\",\"derivative\":\"производная\",\"to be or not to be\":\"быть или не быть\"}\n",
    "\n",
    "def fun():\n",
    "    if d[a]==word.get():\n",
    "        label2.config(text=\"Угадали!\")\n",
    "    else: label2.config(text=\"Не угадали!:(\")\n",
    "        \n",
    "window=Tk()\n",
    "window.title(\"Учим слова!\")\n",
    "window.geometry(\"300x250\")\n",
    "window[\"bg\"]=\"pink\"\n",
    "a=choice(list(d.keys()))\n",
    "label1=Label(window,text=f'Случайное слово:\\n {a}\\n Укажите перевод слова:\\n',bg=\"pink\")\n",
    "word=Entry(window)\n",
    "but=Button(window,text=\"Готово\",bg=\"lightgreen\",command=fun)\n",
    "but2=Button(window,text=\"Выход\",bg=\"lightgreen\",command=exit)\n",
    "label2=Label(window,bg=\"pink\")\n",
    "label1.pack()\n",
    "word.pack()\n",
    "label2.pack()\n",
    "but.pack()\n",
    "but2.pack()\n",
    "window.mainloop()"
   ]
  },
  {
   "cell_type": "code",
   "execution_count": null,
   "metadata": {},
   "outputs": [],
   "source": []
  }
 ],
 "metadata": {
  "kernelspec": {
   "display_name": "Python 3",
   "language": "python",
   "name": "python3"
  },
  "language_info": {
   "codemirror_mode": {
    "name": "ipython",
    "version": 3
   },
   "file_extension": ".py",
   "mimetype": "text/x-python",
   "name": "python",
   "nbconvert_exporter": "python",
   "pygments_lexer": "ipython3",
   "version": "3.7.6"
  }
 },
 "nbformat": 4,
 "nbformat_minor": 4
}
