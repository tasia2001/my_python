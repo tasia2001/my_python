{
 "cells": [
  {
   "cell_type": "code",
   "execution_count": 69,
   "metadata": {},
   "outputs": [],
   "source": [
    "import numpy as np"
   ]
  },
  {
   "cell_type": "code",
   "execution_count": 71,
   "metadata": {},
   "outputs": [],
   "source": [
    "from random import randint"
   ]
  },
  {
   "cell_type": "code",
   "execution_count": 114,
   "metadata": {},
   "outputs": [
    {
     "data": {
      "text/plain": [
       "array([[8, 4, 4],\n",
       "       [8, 4, 9],\n",
       "       [6, 3, 5]])"
      ]
     },
     "execution_count": 114,
     "metadata": {},
     "output_type": "execute_result"
    }
   ],
   "source": [
    "a=np.array([[randint(1,9) for i in range(3)]for j in range(3)])\n",
    "a"
   ]
  },
  {
   "cell_type": "code",
   "execution_count": 121,
   "metadata": {},
   "outputs": [],
   "source": [
    "def lo_shy(a):\n",
    "    b=a.transpose()\n",
    "    for i in range(3):\n",
    "        if sum(a[i])!=15:\n",
    "            break\n",
    "    for i in range(3):\n",
    "        if sum(b[i])!=15:\n",
    "            break\n",
    "    if sum([a[i,2-i] for i in range(3)])==15 and sum([a[2-i,i] for i in range(3)])==15 and sum(sum(a))==45:\n",
    "         print(\"Магический квадрат\")\n",
    "    else:\n",
    "        print(\"Не является магическим квадратом\")\n",
    "            "
   ]
  },
  {
   "cell_type": "code",
   "execution_count": 122,
   "metadata": {},
   "outputs": [
    {
     "name": "stdout",
     "output_type": "stream",
     "text": [
      "Не является магическим квадратом\n"
     ]
    }
   ],
   "source": [
    "lo_shy(a)\n"
   ]
  },
  {
   "cell_type": "code",
   "execution_count": 123,
   "metadata": {},
   "outputs": [
    {
     "name": "stdout",
     "output_type": "stream",
     "text": [
      "Магический квадрат\n"
     ]
    }
   ],
   "source": [
    "b=np.array([[4,9,2],[3,5,7],[8,1,6]])\n",
    "lo_shy(b)"
   ]
  },
  {
   "cell_type": "code",
   "execution_count": null,
   "metadata": {},
   "outputs": [],
   "source": []
  }
 ],
 "metadata": {
  "kernelspec": {
   "display_name": "Python 3",
   "language": "python",
   "name": "python3"
  },
  "language_info": {
   "codemirror_mode": {
    "name": "ipython",
    "version": 3
   },
   "file_extension": ".py",
   "mimetype": "text/x-python",
   "name": "python",
   "nbconvert_exporter": "python",
   "pygments_lexer": "ipython3",
   "version": "3.7.4"
  }
 },
 "nbformat": 4,
 "nbformat_minor": 2
}
