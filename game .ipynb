{
 "cells": [
  {
   "cell_type": "code",
   "execution_count": 6,
   "metadata": {},
   "outputs": [],
   "source": [
    "from random import randint"
   ]
  },
  {
   "cell_type": "code",
   "execution_count": 338,
   "metadata": {},
   "outputs": [],
   "source": [
    "class Game:\n",
    "    #Атрибуты- начальные значения для всех персонажей\n",
    "    count=1\n",
    "    food=[(randint(-5,5),randint(-5,5),randint(0,3)) for i in range(10)]\n",
    "    bullet=[(randint(-5,5),randint(-5,5),randint(0,3)) for i in range(10)]\n",
    "    badfood=[(randint(-5,5),randint(-5,5),randint(0,3)) for i in range(10)]\n",
    "    def __init__(self, new_name=\"Игрок без имени\"):\n",
    "        self._name=new_name\n",
    "        self._bullets=1\n",
    "        self.food=3\n",
    "        self.x=randint(0,10)\n",
    "        self.y=randint(0,10)\n",
    "        self.z=0\n",
    "        Game.count+=1 #Увеличиваем количество игроков\n",
    "        self._speed=1\n",
    "    def set_name(self, new_name):\n",
    "        self._name=new_name\n",
    "    \n",
    "    def shoot(self):\n",
    "        if self._bullets==0:\n",
    "            print(f\"{self._name} Не хватает оружия!\")\n",
    "        else: \n",
    "            self._bullets-=1\n",
    "            print(f\"{self._name}: Стреляю!\")\n",
    "            \n",
    "    def get_name(self):\n",
    "        return self._name  \n",
    "    def move(self,a):\n",
    "        if a==\"l\":\n",
    "            self.x-=1*self._speed\n",
    "        if a==\"r\":\n",
    "            self.x+=1*self._speed\n",
    "        if a==\"f\":\n",
    "            self.y+=1*self._speed\n",
    "        if a==\"b\":\n",
    "            self.y-=1*self._speed\n",
    "        print(f\"Теперь игрок {self._name} на позиции ({self.x},{self.y},{self.z})\")\n",
    "        if (self.x,self.y,self.z) in Game.food:\n",
    "            print(f\"{self._name} Нашёл еду!\")\n",
    "            self._speed*=2\n",
    "            Game.food.append((randint(-5,5),randint(-5,5),randint(-5,5)))\n",
    "        if (self.x,self.y,self.z) in Game.bullet:\n",
    "            print(f\"{self._name} Нашел патроны!\")\n",
    "            self._bullets+=1\n",
    "        if (self.x,self.y,self.z) in Game.badfood:\n",
    "            print(f\"{self._name} Отравился!\")\n",
    "            self._bullets/=2\n",
    "    def say_position(self):\n",
    "        print(f\"Игрок {self._name} на позиции ({self.x},{self.y},{self.z})\")\n",
    "\n",
    "class Flying(Game):\n",
    "    def fly(self,a):\n",
    "        if a==\"u\":\n",
    "            self.z+=1*self._speed\n",
    "            print(f\"Теперь игрок {self._name} на позиции ({self.x},{self.y},{self.z})\")\n",
    "        if a==\"d\":\n",
    "            if self.z>0:\n",
    "                self.z-=1*self._speed\n",
    "                print(f\"Теперь игрок {self._name} на позиции ({self.x},{self.y},{self.z})\")"
   ]
  },
  {
   "cell_type": "code",
   "execution_count": 345,
   "metadata": {},
   "outputs": [
    {
     "name": "stdout",
     "output_type": "stream",
     "text": [
      "Игрок Red Palladin на позиции (0,3,0)\n",
      "Теперь игрок Red Palladin на позиции (0,2,0)\n",
      "Red Palladin Нашёл еду!\n",
      "Теперь игрок Red Palladin на позиции (0,4,0)\n",
      "Теперь игрок Red Palladin на позиции (0,6,0)\n",
      "Теперь игрок Red Palladin на позиции (2,6,0)\n",
      "Теперь игрок Red Palladin на позиции (2,4,0)\n",
      "Red Palladin: Стреляю!\n",
      "Red Palladin Не хватает оружия!\n",
      "Теперь игрок Flying Monster на позиции (0,1,1)\n",
      "Теперь игрок Flying Monster на позиции (1,1,1)\n"
     ]
    }
   ],
   "source": [
    "g1=Game(\"Red Palladin\")\n",
    "g1.get_name()\n",
    "g1.say_position()\n",
    "g1.move(\"b\")\n",
    "g1.move(\"f\")\n",
    "g1.move(\"f\")\n",
    "g1.move(\"r\")\n",
    "g1.move(\"b\")\n",
    "g1.shoot()\n",
    "g1.shoot()\n",
    "g2=Flying(\"Flying Monster\")\n",
    "g2.fly(\"u\")\n",
    "g2.move(\"r\")"
   ]
  }
 ],
 "metadata": {
  "kernelspec": {
   "display_name": "Python 3",
   "language": "python",
   "name": "python3"
  },
  "language_info": {
   "codemirror_mode": {
    "name": "ipython",
    "version": 3
   },
   "file_extension": ".py",
   "mimetype": "text/x-python",
   "name": "python",
   "nbconvert_exporter": "python",
   "pygments_lexer": "ipython3",
   "version": "3.7.4"
  }
 },
 "nbformat": 4,
 "nbformat_minor": 2
}
