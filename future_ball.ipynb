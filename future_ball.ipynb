{
 "cells": [
  {
   "cell_type": "code",
   "execution_count": null,
   "metadata": {},
   "outputs": [
    {
     "name": "stdin",
     "output_type": "stream",
     "text": [
      "Введите вопрос:\n",
      "Введите 1 для выхода\n",
      " ffff\n"
     ]
    },
    {
     "name": "stdout",
     "output_type": "stream",
     "text": [
      "Расскажу после отдыха.\n",
      "\n"
     ]
    },
    {
     "name": "stdin",
     "output_type": "stream",
     "text": [
      "Введите вопрос:\n",
      "Введите 1 для выхода\n",
      " gejgr\n"
     ]
    },
    {
     "name": "stdout",
     "output_type": "stream",
     "text": [
      "Да, разумеется!\n",
      "\n"
     ]
    }
   ],
   "source": [
    "from random import randint\n",
    "with open(\"predict.txt\",'r',encoding='utf8') as f:\n",
    "    read=f.readlines()\n",
    "    while True:\n",
    "        a=input(\"Введите вопрос:\\nВведите 1 для выхода\\n\")\n",
    "        if str(a)==\"1\":\n",
    "            print(\"Выход из программы\")\n",
    "            break\n",
    "        else:\n",
    "            y=randint(0,11)\n",
    "            print(read[y])\n",
    "        \n",
    "    "
   ]
  },
  {
   "cell_type": "code",
   "execution_count": null,
   "metadata": {},
   "outputs": [],
   "source": []
  }
 ],
 "metadata": {
  "kernelspec": {
   "display_name": "Python 3",
   "language": "python",
   "name": "python3"
  },
  "language_info": {
   "codemirror_mode": {
    "name": "ipython",
    "version": 3
   },
   "file_extension": ".py",
   "mimetype": "text/x-python",
   "name": "python",
   "nbconvert_exporter": "python",
   "pygments_lexer": "ipython3",
   "version": "3.7.6"
  }
 },
 "nbformat": 4,
 "nbformat_minor": 4
}
