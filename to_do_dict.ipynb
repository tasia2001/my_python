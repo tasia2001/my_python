{
 "cells": [
  {
   "cell_type": "code",
   "execution_count": null,
   "metadata": {},
   "outputs": [
    {
     "name": "stdout",
     "output_type": "stream",
     "text": [
      "Простой todo:\n",
      "1. Добавить задачу.\n",
      "2. Вывести список задач.\n",
      "3. Выход.\n"
     ]
    }
   ],
   "source": [
    "from pprint import pprint\n",
    "todo={}\n",
    "print(\"Простой todo:\\n1. Добавить задачу.\\n2. Вывести список задач.\\n3. Выход.\")\n",
    "while True:\n",
    "    i=input(\"Укажите число: \")\n",
    "    if i==\"1\":\n",
    "        todo.update({input(\"Сформулируйте задачу: \"):{\"category\":input(\"Добавьте категорию: \"),\"time\":input(\"Добавьте время: \")}})\n",
    "    if i==\"2\":\n",
    "        pprint(todo)\n",
    "    if i==\"3\":\n",
    "        print(\"Выход из программы\")\n",
    "        break\n",
    "\n",
    "        \n",
    "    \n"
   ]
  },
  {
   "cell_type": "code",
   "execution_count": null,
   "metadata": {},
   "outputs": [],
   "source": []
  }
 ],
 "metadata": {
  "kernelspec": {
   "display_name": "Python 3",
   "language": "python",
   "name": "python3"
  },
  "language_info": {
   "codemirror_mode": {
    "name": "ipython",
    "version": 3
   },
   "file_extension": ".py",
   "mimetype": "text/x-python",
   "name": "python",
   "nbconvert_exporter": "python",
   "pygments_lexer": "ipython3",
   "version": "3.7.4"
  }
 },
 "nbformat": 4,
 "nbformat_minor": 2
}
