{
 "cells": [
  {
   "cell_type": "code",
   "execution_count": 1,
   "metadata": {},
   "outputs": [
    {
     "name": "stdout",
     "output_type": "stream",
     "text": [
      "Введите число 3\n",
      "Введите число 1\n",
      "Введите число апр\n",
      "Ошибка ввода\n",
      "Введите число 6\n",
      "Введите число 3\n",
      "Введите число 6\n",
      "Введите число 3\n",
      "Введите число стоп\n",
      "Выход из программы\n",
      "22\n"
     ]
    }
   ],
   "source": [
    "sum=0\n",
    "while True:\n",
    "    t=input(\"Введите число \")\n",
    "    if t.lower()==\"стоп\":\n",
    "        print(\"Выход из программы\")\n",
    "        break\n",
    "    elif t.isdigit():\n",
    "        sum+=int(t)\n",
    "    else:\n",
    "        print(\"Ошибка ввода\")\n",
    "print(sum)"
   ]
  },
  {
   "cell_type": "code",
   "execution_count": null,
   "metadata": {},
   "outputs": [],
   "source": []
  }
 ],
 "metadata": {
  "kernelspec": {
   "display_name": "Python 3",
   "language": "python",
   "name": "python3"
  },
  "language_info": {
   "codemirror_mode": {
    "name": "ipython",
    "version": 3
   },
   "file_extension": ".py",
   "mimetype": "text/x-python",
   "name": "python",
   "nbconvert_exporter": "python",
   "pygments_lexer": "ipython3",
   "version": "3.7.4"
  }
 },
 "nbformat": 4,
 "nbformat_minor": 2
}
