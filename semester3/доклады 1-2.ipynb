{
 "cells": [
  {
   "cell_type": "markdown",
   "metadata": {},
   "source": [
    "# Задание 1"
   ]
  },
  {
   "cell_type": "code",
   "execution_count": 7,
   "metadata": {},
   "outputs": [
    {
     "name": "stdout",
     "output_type": "stream",
     "text": [
      "Площадь круга равна 6.538813500136891\n"
     ]
    }
   ],
   "source": [
    "import math\n",
    "r=math.log(math.e,2)\n",
    "s=math.pi*math.pow(r,2)\n",
    "print('Площадь круга равна',s)"
   ]
  },
  {
   "cell_type": "markdown",
   "metadata": {},
   "source": [
    "# Задание 2"
   ]
  },
  {
   "cell_type": "code",
   "execution_count": 22,
   "metadata": {},
   "outputs": [
    {
     "name": "stdout",
     "output_type": "stream",
     "text": [
      "значение дисперсии популяции равно 121.44656027389598, а значение стандартного отклонения - 11.020279500715759\n"
     ]
    }
   ],
   "source": [
    "from random import randint\n",
    "import statistics as st\n",
    "lst=[randint(1,100) for i in range(30)]\n",
    "lst1=[st.mean(lst),st.harmonic_mean(lst)]\n",
    "print(f'значение дисперсии популяции равно {st.pvariance(lst1)}, а значение стандартного отклонения - {st.pstdev(lst1)}')"
   ]
  },
  {
   "cell_type": "markdown",
   "metadata": {},
   "source": [
    "# Задание 3"
   ]
  },
  {
   "cell_type": "markdown",
   "metadata": {},
   "source": [
    "1. Можно ли смешивать числа типа decimal с объектами типа int? float?\n",
    "decimal с объектами типа int использовать можно, на выходе получим объект decimal. А вот с float нужно быть аккуратно, так как вместо задаваемых значений обычных дробей используются встроенные значения. Например:"
   ]
  },
  {
   "cell_type": "code",
   "execution_count": 11,
   "metadata": {},
   "outputs": [
    {
     "data": {
      "text/plain": [
       "Decimal('3.200000000000000011102230246')"
      ]
     },
     "execution_count": 11,
     "metadata": {},
     "output_type": "execute_result"
    }
   ],
   "source": [
    "from decimal import *\n",
    "from fractions import Fraction\n",
    "Decimal(0.2)+3"
   ]
  },
  {
   "cell_type": "markdown",
   "metadata": {},
   "source": [
    "Этого можно избежать, если задавать дробь в виде строки"
   ]
  },
  {
   "cell_type": "markdown",
   "metadata": {},
   "source": [
    "2. Какие атрибуты и методы fractions вы знаете?\n",
    "a.numerator - возвращает числитель дроби\n",
    "a.denominator - возвращает знаменатель дроби\n",
    "Fraction.from_float(flt) - находит ближайшую рациональную дробь\n",
    "Fraction.from_decimal(dec) - переводит десятичную дробь, выраженную Decimal в обыкновенную\n",
    "Fraction.limit_denominator(max_denominator=10...) - ближайшее рациональное представление числа, где знаменатель не превышает указанного значения\n",
    "и округления"
   ]
  },
  {
   "cell_type": "code",
   "execution_count": 61,
   "metadata": {},
   "outputs": [],
   "source": [
    "def money(a):\n",
    "    b=Fraction.from_decimal(Decimal(str(a)))\n",
    "    rubles=b.numerator//b.denominator\n",
    "    print(rubles,round(100*(Decimal(str(a))-rubles)))\n",
    "    \n",
    "    "
   ]
  },
  {
   "cell_type": "code",
   "execution_count": 63,
   "metadata": {},
   "outputs": [
    {
     "name": "stdout",
     "output_type": "stream",
     "text": [
      "10 35\n"
     ]
    }
   ],
   "source": [
    "money(10.35)"
   ]
  },
  {
   "cell_type": "code",
   "execution_count": 76,
   "metadata": {},
   "outputs": [
    {
     "data": {
      "text/plain": [
       "10"
      ]
     },
     "execution_count": 76,
     "metadata": {},
     "output_type": "execute_result"
    }
   ],
   "source": [
    "import random\n",
    "random.choice(list(range(6,13,2)))"
   ]
  },
  {
   "cell_type": "code",
   "execution_count": null,
   "metadata": {},
   "outputs": [],
   "source": []
  }
 ],
 "metadata": {
  "kernelspec": {
   "display_name": "Python 3",
   "language": "python",
   "name": "python3"
  },
  "language_info": {
   "codemirror_mode": {
    "name": "ipython",
    "version": 3
   },
   "file_extension": ".py",
   "mimetype": "text/x-python",
   "name": "python",
   "nbconvert_exporter": "python",
   "pygments_lexer": "ipython3",
   "version": "3.7.6"
  }
 },
 "nbformat": 4,
 "nbformat_minor": 4
}
