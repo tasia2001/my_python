{
 "cells": [
  {
   "cell_type": "markdown",
   "metadata": {},
   "source": [
    "# enum"
   ]
  },
  {
   "cell_type": "markdown",
   "metadata": {},
   "source": [
    "Модуль enum предназначен для удобного использования какого-нибудь множества допустимых значений.\n",
    "Например, 12 месяцев, 7 дней недели, и тд\n",
    "Рассмотрим пример использования:"
   ]
  },
  {
   "cell_type": "code",
   "execution_count": 19,
   "metadata": {},
   "outputs": [],
   "source": [
    "from enum import Enum\n",
    "Finec=Enum('Finec','calculus fizra python algebra')"
   ]
  },
  {
   "cell_type": "code",
   "execution_count": 5,
   "metadata": {},
   "outputs": [
    {
     "data": {
      "text/plain": [
       "<Finec.calculus: 1>"
      ]
     },
     "execution_count": 5,
     "metadata": {},
     "output_type": "execute_result"
    }
   ],
   "source": [
    "Finec.calculus"
   ]
  },
  {
   "cell_type": "markdown",
   "metadata": {},
   "source": [
    "то же самое можно записать:"
   ]
  },
  {
   "cell_type": "code",
   "execution_count": 42,
   "metadata": {},
   "outputs": [],
   "source": [
    "class Finec(Enum):\n",
    "    calculus=1\n",
    "    fizra=2 #можно использовать auto() для перечисления\n",
    "    python=3\n",
    "    algebra=4"
   ]
  },
  {
   "cell_type": "code",
   "execution_count": 31,
   "metadata": {},
   "outputs": [
    {
     "data": {
      "text/plain": [
       "True"
      ]
     },
     "execution_count": 31,
     "metadata": {},
     "output_type": "execute_result"
    }
   ],
   "source": [
    "Finec.fizra==Finec.fizra"
   ]
  },
  {
   "cell_type": "code",
   "execution_count": 32,
   "metadata": {},
   "outputs": [
    {
     "data": {
      "text/plain": [
       "False"
      ]
     },
     "execution_count": 32,
     "metadata": {},
     "output_type": "execute_result"
    }
   ],
   "source": [
    "Finec.fizra==Finec.python"
   ]
  },
  {
   "cell_type": "markdown",
   "metadata": {},
   "source": [
    "Получение переменных:"
   ]
  },
  {
   "cell_type": "code",
   "execution_count": 36,
   "metadata": {},
   "outputs": [
    {
     "data": {
      "text/plain": [
       "<Finec.fizra: 2>"
      ]
     },
     "execution_count": 36,
     "metadata": {},
     "output_type": "execute_result"
    }
   ],
   "source": [
    "Finec(2)\n",
    "Finec['fizra']\n",
    "Finec.fizra"
   ]
  },
  {
   "cell_type": "code",
   "execution_count": 37,
   "metadata": {},
   "outputs": [
    {
     "name": "stdout",
     "output_type": "stream",
     "text": [
      "Finec.algebra\n"
     ]
    }
   ],
   "source": [
    "print(Finec.algebra)"
   ]
  },
  {
   "cell_type": "code",
   "execution_count": null,
   "metadata": {},
   "outputs": [],
   "source": [
    "С помощью name и value можно доставать название и значение (номер) объекта"
   ]
  },
  {
   "cell_type": "code",
   "execution_count": 38,
   "metadata": {},
   "outputs": [
    {
     "data": {
      "text/plain": [
       "'algebra'"
      ]
     },
     "execution_count": 38,
     "metadata": {},
     "output_type": "execute_result"
    }
   ],
   "source": [
    "Finec.algebra.name"
   ]
  },
  {
   "cell_type": "code",
   "execution_count": 39,
   "metadata": {},
   "outputs": [
    {
     "data": {
      "text/plain": [
       "4"
      ]
     },
     "execution_count": 39,
     "metadata": {},
     "output_type": "execute_result"
    }
   ],
   "source": [
    "Finec.algebra.value"
   ]
  },
  {
   "cell_type": "markdown",
   "metadata": {},
   "source": [
    "Можно нескольким объектам присваивать одинаковые значения, но нельзя дважды использовать объект внутри перечисления"
   ]
  },
  {
   "cell_type": "code",
   "execution_count": 51,
   "metadata": {},
   "outputs": [],
   "source": [
    "Animal = Enum('Animal', 'ANT, BEE, CAT, DOG')\n",
    "Direction = Enum('Direction', ['NORTH', 'SOUTH', 'WEST', 'EAST'])\n",
    "Color = Enum('Color', [('Pink', 4), ('LightPink', 5), ('DarkPink', 6)])\n",
    "Mood = Enum('Mood', {'HAPPY': ':-)', 'SAD': ':-('})"
   ]
  },
  {
   "cell_type": "markdown",
   "metadata": {},
   "source": [
    "Процесс перечисления с помощью атрибута __members__ "
   ]
  },
  {
   "cell_type": "code",
   "execution_count": 55,
   "metadata": {},
   "outputs": [
    {
     "name": "stdout",
     "output_type": "stream",
     "text": [
      "calculus Finec.calculus\n",
      "fizra Finec.fizra\n",
      "python Finec.python\n",
      "algebra Finec.algebra\n"
     ]
    }
   ],
   "source": [
    "for name, member in Finec.__members__.items():\n",
    "    print(name, member)"
   ]
  },
  {
   "cell_type": "markdown",
   "metadata": {},
   "source": [
    "# IntEnum"
   ]
  },
  {
   "cell_type": "markdown",
   "metadata": {},
   "source": [
    "Подвид enum, чтобы удобно было сравнивать значения"
   ]
  },
  {
   "cell_type": "code",
   "execution_count": 56,
   "metadata": {},
   "outputs": [],
   "source": [
    "from enum import IntEnum\n",
    ">>> class Shape(IntEnum):\n",
    "...     CIRCLE = 1\n",
    "...     SQUARE = 2\n",
    "...\n",
    ">>> class Request(IntEnum):\n",
    "...     POST = 1\n",
    "...     GET = 2\n"
   ]
  },
  {
   "cell_type": "code",
   "execution_count": 61,
   "metadata": {},
   "outputs": [
    {
     "data": {
      "text/plain": [
       "3"
      ]
     },
     "execution_count": 61,
     "metadata": {},
     "output_type": "execute_result"
    }
   ],
   "source": [
    "Shape.CIRCLE+Request.GET"
   ]
  },
  {
   "cell_type": "markdown",
   "metadata": {},
   "source": [
    "# Collections"
   ]
  },
  {
   "cell_type": "markdown",
   "metadata": {},
   "source": [
    "### collections.Counter\n",
    "Вид словаря для подсчёта количества объектов"
   ]
  },
  {
   "cell_type": "code",
   "execution_count": 30,
   "metadata": {},
   "outputs": [
    {
     "name": "stdout",
     "output_type": "stream",
     "text": [
      "Counter({'5': 3, '4': 3, '3': 2, '2': 1})\n",
      "3\n",
      "0\n"
     ]
    }
   ],
   "source": [
    "import collections as cl\n",
    "c=cl.Counter()\n",
    "for mark in ['3','2','5','5','4','3','4','4','5']:#оценки усердного студента\n",
    "    c[mark]+=1\n",
    "    \n",
    "print(c)\n",
    "print(c['4'])\n",
    "print(c['1'])"
   ]
  },
  {
   "cell_type": "markdown",
   "metadata": {},
   "source": [
    "elements()"
   ]
  },
  {
   "cell_type": "code",
   "execution_count": 21,
   "metadata": {},
   "outputs": [
    {
     "data": {
      "text/plain": [
       "['a', 'a', 'b', 'b', 'b', 'b', 'b', 'c', 'c', 'c']"
      ]
     },
     "execution_count": 21,
     "metadata": {},
     "output_type": "execute_result"
    }
   ],
   "source": [
    "c1=cl.Counter(a=2,b=5,c=3,d=0,e=-4)\n",
    "list(c1.elements()) #лексикографический порядок"
   ]
  },
  {
   "cell_type": "markdown",
   "metadata": {},
   "source": [
    " most_common()"
   ]
  },
  {
   "cell_type": "code",
   "execution_count": 32,
   "metadata": {},
   "outputs": [
    {
     "data": {
      "text/plain": [
       "[('o', 3), ('h', 2), ('i', 1)]"
      ]
     },
     "execution_count": 32,
     "metadata": {},
     "output_type": "execute_result"
    }
   ],
   "source": [
    "cl.Counter('ilovepythonsomuch').most_common(3)"
   ]
  },
  {
   "cell_type": "markdown",
   "metadata": {},
   "source": [
    "subtract([])"
   ]
  },
  {
   "cell_type": "code",
   "execution_count": 44,
   "metadata": {},
   "outputs": [
    {
     "data": {
      "text/plain": [
       "Counter({'a': 1, 'b': -2, 'c': 4})"
      ]
     },
     "execution_count": 44,
     "metadata": {},
     "output_type": "execute_result"
    }
   ],
   "source": [
    "c=cl.Counter(a=3,b=3,c=4)\n",
    "d=cl.Counter(a=2,b=5,c=0)\n",
    "c.subtract(d)\n",
    "c"
   ]
  },
  {
   "cell_type": "markdown",
   "metadata": {},
   "source": [
    "Сложение, вычитание, объединение и пересечение"
   ]
  },
  {
   "cell_type": "code",
   "execution_count": 56,
   "metadata": {},
   "outputs": [],
   "source": [
    "c=cl.Counter(a=3,b=3,c=4)\n",
    "d=cl.Counter(a=2,b=5,c=0)"
   ]
  },
  {
   "cell_type": "code",
   "execution_count": 57,
   "metadata": {},
   "outputs": [
    {
     "name": "stdout",
     "output_type": "stream",
     "text": [
      "Сложение Counter({'b': 8, 'a': 5, 'c': 4})\n",
      "Вычитание Counter({'c': 4, 'a': 1})\n",
      "Объединение Counter({'b': 5, 'c': 4, 'a': 3})\n",
      "Пересечение Counter({'b': 3, 'a': 2})\n"
     ]
    }
   ],
   "source": [
    "print('Сложение',c+d)\n",
    "print('Вычитание', c-d)\n",
    "print(\"Объединение\",c|d)\n",
    "print('Пересечение',d & c)"
   ]
  },
  {
   "cell_type": "markdown",
   "metadata": {},
   "source": [
    "### collections.deque(iterable,maxlen)\n",
    "Создает очередь из итерируемого объекта с максимальной длиной maxlen\n",
    "Добавлять элементы можно и в начало и в конец"
   ]
  },
  {
   "cell_type": "code",
   "execution_count": 67,
   "metadata": {},
   "outputs": [
    {
     "name": "stdout",
     "output_type": "stream",
     "text": [
      "deque(['a', 'b', 'c', 'x'], maxlen=5)\n",
      "deque(['z', 'a', 'b', 'c', 'x'], maxlen=5)\n"
     ]
    }
   ],
   "source": [
    "h=cl.deque(['a','b','c'],5)\n",
    "h.append('x')\n",
    "print(h)\n",
    "h.appendleft('z')\n",
    "print(h)"
   ]
  },
  {
   "cell_type": "markdown",
   "metadata": {},
   "source": [
    "### Методы:"
   ]
  },
  {
   "cell_type": "markdown",
   "metadata": {},
   "source": [
    "append(x) - добавление в конец\n",
    "appendleft(x) - добавление в начало\n",
    "clear() - очищает очередь\n",
    "count(x) - количество элементов, равных х\n",
    "extend(iterable) - добавляет в конец элементы iterable\n",
    "extendleft(iterable)\n",
    "pop() - удаляет и возвращает последний элемент очереди\n",
    "popleft()\n",
    "remove(value) - удаляет первое вхождение value\n",
    "reverse()\n",
    "rotate(n)"
   ]
  },
  {
   "cell_type": "markdown",
   "metadata": {},
   "source": [
    "# array"
   ]
  },
  {
   "cell_type": "code",
   "execution_count": 97,
   "metadata": {},
   "outputs": [
    {
     "data": {
      "text/plain": [
       "'i'"
      ]
     },
     "execution_count": 97,
     "metadata": {},
     "output_type": "execute_result"
    }
   ],
   "source": [
    "from array import *\n",
    "arr=array('i',[1,5,4,3,2,4,5])\n",
    "arr.typecode"
   ]
  },
  {
   "cell_type": "code",
   "execution_count": 98,
   "metadata": {},
   "outputs": [
    {
     "name": "stdout",
     "output_type": "stream",
     "text": [
      "array('i', [1, 5, 4, 3, 2, 4, 5, 0])\n",
      "2\n",
      "array('i', [1, 5, 4, 3, 2, 4, 5, 0, 7, 8, 9])\n"
     ]
    },
    {
     "data": {
      "text/plain": [
       "3"
      ]
     },
     "execution_count": 98,
     "metadata": {},
     "output_type": "execute_result"
    }
   ],
   "source": [
    "arr.append(0)\n",
    "print(arr)\n",
    "print(arr.count(5))\n",
    "arr.extend([7,8,9])\n",
    "print(arr)\n",
    "arr.pop(3)"
   ]
  },
  {
   "cell_type": "code",
   "execution_count": 99,
   "metadata": {},
   "outputs": [
    {
     "data": {
      "text/plain": [
       "array('i', [1, 4, 2, 4, 5, 0, 7, 8, 9])"
      ]
     },
     "execution_count": 99,
     "metadata": {},
     "output_type": "execute_result"
    }
   ],
   "source": [
    "arr.remove(5)\n",
    "arr"
   ]
  },
  {
   "cell_type": "code",
   "execution_count": 108,
   "metadata": {},
   "outputs": [
    {
     "data": {
      "text/plain": [
       "[1, 4, 2, 4, 5, 0, 7, 8, 9]"
      ]
     },
     "execution_count": 108,
     "metadata": {},
     "output_type": "execute_result"
    }
   ],
   "source": [
    "arr.tolist()"
   ]
  },
  {
   "cell_type": "markdown",
   "metadata": {},
   "source": [
    "# Задачи"
   ]
  },
  {
   "cell_type": "markdown",
   "metadata": {},
   "source": [
    "1. Дана произвольная строка. Вывести наименее часто встречающиеся элементы. (без использования reverse)"
   ]
  },
  {
   "cell_type": "markdown",
   "metadata": {},
   "source": [
    "2. С помощью каждого из первых двух изученных модулей создать массивы из 5 переменных с некоторыми значениями, увеличить каждое значение в три раза и добавить новый элемент со значением 1"
   ]
  },
  {
   "cell_type": "code",
   "execution_count": null,
   "metadata": {},
   "outputs": [],
   "source": []
  }
 ],
 "metadata": {
  "kernelspec": {
   "display_name": "Python 3",
   "language": "python",
   "name": "python3"
  },
  "language_info": {
   "codemirror_mode": {
    "name": "ipython",
    "version": 3
   },
   "file_extension": ".py",
   "mimetype": "text/x-python",
   "name": "python",
   "nbconvert_exporter": "python",
   "pygments_lexer": "ipython3",
   "version": "3.7.6"
  }
 },
 "nbformat": 4,
 "nbformat_minor": 4
}
