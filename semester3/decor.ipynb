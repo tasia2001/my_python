{
 "cells": [
  {
   "cell_type": "markdown",
   "metadata": {},
   "source": [
    "Задание 1"
   ]
  },
  {
   "cell_type": "code",
   "execution_count": 111,
   "metadata": {},
   "outputs": [],
   "source": [
    "def log(func):\n",
    "    def wrapper(*args):\n",
    "        print(f'вы вызвали функцию {func.__name__}{args}')\n",
    "        print(f'она вернула значение {func(*args)}')\n",
    "        print(func(*args))\n",
    "    return wrapper"
   ]
  },
  {
   "cell_type": "code",
   "execution_count": 112,
   "metadata": {},
   "outputs": [],
   "source": [
    "@log\n",
    "def function(*args):\n",
    "    return 3+len(args)"
   ]
  },
  {
   "cell_type": "code",
   "execution_count": 115,
   "metadata": {},
   "outputs": [
    {
     "name": "stdout",
     "output_type": "stream",
     "text": [
      "вы вызвали функцию function(4, 4, 4)\n",
      "она вернула значение 4\n",
      "4\n"
     ]
    }
   ],
   "source": [
    "function(4,4,4)"
   ]
  },
  {
   "cell_type": "markdown",
   "metadata": {},
   "source": [
    "Задание 2"
   ]
  },
  {
   "cell_type": "code",
   "execution_count": 108,
   "metadata": {},
   "outputs": [],
   "source": [
    "from datetime import datetime\n",
    "def html(func):\n",
    "    def wrapper(*args, **kwargs):\n",
    "        result=func(*args, **kwargs)\n",
    "        now=datetime.now()\n",
    "        date=now.strftime(\"%Y/%m/%d %H:%M\")\n",
    "        with open(\"my_file.html\",'w') as f:\n",
    "            f.write(f\"{date} \\n <html><strong>'{result}'</strong></html>\")\n",
    "        return result\n",
    "    return wrapper\n",
    "        \n",
    "            \n",
    "        \n",
    "        "
   ]
  },
  {
   "cell_type": "code",
   "execution_count": 109,
   "metadata": {},
   "outputs": [],
   "source": [
    "@html\n",
    "def function(s=\"hello\"):\n",
    "    return s"
   ]
  },
  {
   "cell_type": "code",
   "execution_count": 110,
   "metadata": {},
   "outputs": [
    {
     "data": {
      "text/plain": [
       "'hi'"
      ]
     },
     "execution_count": 110,
     "metadata": {},
     "output_type": "execute_result"
    }
   ],
   "source": [
    "function('hi')"
   ]
  },
  {
   "cell_type": "code",
   "execution_count": null,
   "metadata": {},
   "outputs": [],
   "source": []
  }
 ],
 "metadata": {
  "kernelspec": {
   "display_name": "Python 3",
   "language": "python",
   "name": "python3"
  },
  "language_info": {
   "codemirror_mode": {
    "name": "ipython",
    "version": 3
   },
   "file_extension": ".py",
   "mimetype": "text/x-python",
   "name": "python",
   "nbconvert_exporter": "python",
   "pygments_lexer": "ipython3",
   "version": "3.7.6"
  }
 },
 "nbformat": 4,
 "nbformat_minor": 4
}
