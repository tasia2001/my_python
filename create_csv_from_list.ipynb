{
 "cells": [
  {
   "cell_type": "code",
   "execution_count": 15,
   "metadata": {},
   "outputs": [
    {
     "name": "stdout",
     "output_type": "stream",
     "text": [
      "('Георгий', 'Невский проспект', '22')\n",
      "('Иван', 'пр. Ветеранов', '21')\n"
     ]
    }
   ],
   "source": [
    "import csv\n",
    "\n",
    "def writer_csv(name,data):\n",
    "    with open(name,'w') as file:\n",
    "        writer=csv.writer(file)\n",
    "        writer.writerow(('name','address','age'))\n",
    "        for s in data:\n",
    "            print(s)\n",
    "            writer.writerow(s)\n",
    "            \n",
    "data=[('Георгий', 'Невский проспект', '22'), ('Иван', 'пр. Ветеранов', '21')]\n",
    "writer_csv(\"tttt.csv\",data)"
   ]
  },
  {
   "cell_type": "code",
   "execution_count": null,
   "metadata": {},
   "outputs": [],
   "source": []
  }
 ],
 "metadata": {
  "kernelspec": {
   "display_name": "Python 3",
   "language": "python",
   "name": "python3"
  },
  "language_info": {
   "codemirror_mode": {
    "name": "ipython",
    "version": 3
   },
   "file_extension": ".py",
   "mimetype": "text/x-python",
   "name": "python",
   "nbconvert_exporter": "python",
   "pygments_lexer": "ipython3",
   "version": "3.7.6"
  }
 },
 "nbformat": 4,
 "nbformat_minor": 4
}
