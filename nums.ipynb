{
 "cells": [
  {
   "cell_type": "code",
   "execution_count": 21,
   "metadata": {},
   "outputs": [],
   "source": [
    "def is_number(s):\n",
    "    try:\n",
    "        float(s)\n",
    "        return True\n",
    "    except ValueError:\n",
    "        return False"
   ]
  },
  {
   "cell_type": "code",
   "execution_count": 25,
   "metadata": {},
   "outputs": [
    {
     "name": "stdout",
     "output_type": "stream",
     "text": [
      "[3.1604, 3.162, 1706.0, 1737.0]\n",
      "Количество чисел:  4\n",
      "Максимальное число:  1737.0\n",
      "Сумма чисел:  3449.3224\n"
     ]
    }
   ],
   "source": [
    "s = '''В разные эпохи и у разных народов число Пи имело разное значение.\n",
    "Например, в Древнем Египте оно равнялось 3.1604 у индусов оно приобрело\n",
    "значение 3.162 китайцы пользовались числом, равным 3.1459\n",
    "Буквенное обозначение число Пи получило только в 1706 году – оно происходит\n",
    "от начальных букв двух греческих слов, означающих окружность и периметр.\n",
    "Буквой π число наделил математик Джонс, а прочно вошла в математику она\n",
    "уже в 1737 году.'''\n",
    "k=s.split(\" \")\n",
    "l=[float(i) for i in k if is_number(i)]\n",
    "print(l)\n",
    "print(\"Количество чисел: \",len(l))\n",
    "print(\"Максимальное число: \",max(l))\n",
    "print(\"Сумма чисел: \",sum(l))"
   ]
  }
 ],
 "metadata": {
  "kernelspec": {
   "display_name": "Python 3",
   "language": "python",
   "name": "python3"
  },
  "language_info": {
   "codemirror_mode": {
    "name": "ipython",
    "version": 3
   },
   "file_extension": ".py",
   "mimetype": "text/x-python",
   "name": "python",
   "nbconvert_exporter": "python",
   "pygments_lexer": "ipython3",
   "version": "3.7.4"
  }
 },
 "nbformat": 4,
 "nbformat_minor": 2
}
