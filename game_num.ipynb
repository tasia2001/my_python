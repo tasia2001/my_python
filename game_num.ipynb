{
 "cells": [
  {
   "cell_type": "code",
   "execution_count": null,
   "metadata": {},
   "outputs": [],
   "source": [
    "from random import randint\n",
    "i=4\n",
    "r=randint(1,4)\n",
    "while i>0:\n",
    "    text=input(\"Введите число или стоп для выхода: \")\n",
    "    if text==\"стоп\":\n",
    "        print(\"Выход из программы\")\n",
    "        break\n",
    "    elif int(text)==r:\n",
    "        print('Победа!\\n')\n",
    "        break\n",
    "    elif int(text)>r:\n",
    "        i=i-1\n",
    "        print(\"Меньше! Осталось\",i,\"попыток\")\n",
    "    else:\n",
    "        i=i-1\n",
    "        print(\"Больше! Осталось\",i,\"попыток\")"
   ]
  },
  {
   "cell_type": "code",
   "execution_count": null,
   "metadata": {},
   "outputs": [],
   "source": []
  },
  {
   "cell_type": "code",
   "execution_count": null,
   "metadata": {},
   "outputs": [],
   "source": []
  }
 ],
 "metadata": {
  "kernelspec": {
   "display_name": "Python 3",
   "language": "python",
   "name": "python3"
  },
  "language_info": {
   "codemirror_mode": {
    "name": "ipython",
    "version": 3
   },
   "file_extension": ".py",
   "mimetype": "text/x-python",
   "name": "python",
   "nbconvert_exporter": "python",
   "pygments_lexer": "ipython3",
   "version": "3.7.4"
  }
 },
 "nbformat": 4,
 "nbformat_minor": 2
}
