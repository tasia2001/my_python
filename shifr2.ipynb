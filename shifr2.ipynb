{
 "cells": [
  {
   "cell_type": "code",
   "execution_count": 12,
   "metadata": {},
   "outputs": [],
   "source": [
    "with open('shifrtext.txt','r') as reader, open('deshrift.txt','w') as writer:\n",
    "    codes={\"a\":\"%\",\"b\":\"9\",\"c\":\"&\",\"j\":\"*\",\" \":\" \",\"\\n\":\"\\n\"}\n",
    "    decodes={value: key for key,value in codes.items()}\n",
    "    read=reader.readlines()\n",
    "    r=[]\n",
    "    for i in read:\n",
    "        a=list(i)\n",
    "        r=(list(map(lambda x: decodes[x],a)))\n",
    "        u=list(map(lambda x: ''.join(x),r))\n",
    "        writer.writelines(u)"
   ]
  },
  {
   "cell_type": "code",
   "execution_count": 8,
   "metadata": {},
   "outputs": [],
   "source": [
    "decodes={value: key for key,value in codes.items()}"
   ]
  },
  {
   "cell_type": "code",
   "execution_count": 9,
   "metadata": {},
   "outputs": [
    {
     "data": {
      "text/plain": [
       "{'%': 'a', '9': 'b', '&': 'c', '*': 'j', ' ': ' ', '\\n': '\\n'}"
      ]
     },
     "execution_count": 9,
     "metadata": {},
     "output_type": "execute_result"
    }
   ],
   "source": []
  },
  {
   "cell_type": "code",
   "execution_count": null,
   "metadata": {},
   "outputs": [],
   "source": []
  }
 ],
 "metadata": {
  "kernelspec": {
   "display_name": "Python 3",
   "language": "python",
   "name": "python3"
  },
  "language_info": {
   "codemirror_mode": {
    "name": "ipython",
    "version": 3
   },
   "file_extension": ".py",
   "mimetype": "text/x-python",
   "name": "python",
   "nbconvert_exporter": "python",
   "pygments_lexer": "ipython3",
   "version": "3.7.6"
  }
 },
 "nbformat": 4,
 "nbformat_minor": 4
}
